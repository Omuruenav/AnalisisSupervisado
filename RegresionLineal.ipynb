{
 "cells": [
  {
   "cell_type": "code",
   "execution_count": 1,
   "id": "ab9252c8-0323-4a7a-9747-4b429a31c62a",
   "metadata": {},
   "outputs": [
    {
     "data": {
      "text/html": [
       "<div>\n",
       "<style scoped>\n",
       "    .dataframe tbody tr th:only-of-type {\n",
       "        vertical-align: middle;\n",
       "    }\n",
       "\n",
       "    .dataframe tbody tr th {\n",
       "        vertical-align: top;\n",
       "    }\n",
       "\n",
       "    .dataframe thead th {\n",
       "        text-align: right;\n",
       "    }\n",
       "</style>\n",
       "<table border=\"1\" class=\"dataframe\">\n",
       "  <thead>\n",
       "    <tr style=\"text-align: right;\">\n",
       "      <th></th>\n",
       "      <th>nombre</th>\n",
       "      <th>ano</th>\n",
       "      <th>precio_de_venta</th>\n",
       "      <th>km_recorridos</th>\n",
       "      <th>combustible</th>\n",
       "      <th>tipo_vendedor</th>\n",
       "      <th>transmision</th>\n",
       "      <th>propietario</th>\n",
       "      <th>kilometraje</th>\n",
       "      <th>motor</th>\n",
       "      <th>potencia_maxima</th>\n",
       "      <th>par</th>\n",
       "      <th>asientos</th>\n",
       "    </tr>\n",
       "  </thead>\n",
       "  <tbody>\n",
       "    <tr>\n",
       "      <th>0</th>\n",
       "      <td>Maruti Swift Dzire VDI</td>\n",
       "      <td>2014.0</td>\n",
       "      <td>450000.0</td>\n",
       "      <td>145500.0</td>\n",
       "      <td>Diesel</td>\n",
       "      <td>Individual</td>\n",
       "      <td>Manual</td>\n",
       "      <td>First Owner</td>\n",
       "      <td>23.4 kmpl</td>\n",
       "      <td>1248 CC</td>\n",
       "      <td>74 bhp</td>\n",
       "      <td>190Nm@ 2000rpm</td>\n",
       "      <td>5.0</td>\n",
       "    </tr>\n",
       "    <tr>\n",
       "      <th>1</th>\n",
       "      <td>Skoda Rapid 1.5 TDI Ambition</td>\n",
       "      <td>2014.0</td>\n",
       "      <td>370000.0</td>\n",
       "      <td>120000.0</td>\n",
       "      <td>Diesel</td>\n",
       "      <td>Individual</td>\n",
       "      <td>Manual</td>\n",
       "      <td>Second Owner</td>\n",
       "      <td>21.14 kmpl</td>\n",
       "      <td>1498 CC</td>\n",
       "      <td>103.52 bhp</td>\n",
       "      <td>250Nm@ 1500-2500rpm</td>\n",
       "      <td>5.0</td>\n",
       "    </tr>\n",
       "    <tr>\n",
       "      <th>2</th>\n",
       "      <td>Honda City 2017-2020 EXi,2006,158000,140000,Pe...</td>\n",
       "      <td>NaN</td>\n",
       "      <td>NaN</td>\n",
       "      <td>NaN</td>\n",
       "      <td>NaN</td>\n",
       "      <td>NaN</td>\n",
       "      <td>NaN</td>\n",
       "      <td>NaN</td>\n",
       "      <td>NaN</td>\n",
       "      <td>NaN</td>\n",
       "      <td>NaN</td>\n",
       "      <td>NaN</td>\n",
       "      <td>NaN</td>\n",
       "    </tr>\n",
       "    <tr>\n",
       "      <th>3</th>\n",
       "      <td>Hyundai i20 Sportz Diesel</td>\n",
       "      <td>2010.0</td>\n",
       "      <td>225000.0</td>\n",
       "      <td>127000.0</td>\n",
       "      <td>Diesel</td>\n",
       "      <td>Individual</td>\n",
       "      <td>Manual</td>\n",
       "      <td>First Owner</td>\n",
       "      <td>23.0 kmpl</td>\n",
       "      <td>1396 CC</td>\n",
       "      <td>90 bhp</td>\n",
       "      <td>22.4 kgm at 1750-2750rpm</td>\n",
       "      <td>5.0</td>\n",
       "    </tr>\n",
       "    <tr>\n",
       "      <th>4</th>\n",
       "      <td>Maruti Swift VXI BSIII,2007,130000,120000,Petr...</td>\n",
       "      <td>NaN</td>\n",
       "      <td>NaN</td>\n",
       "      <td>NaN</td>\n",
       "      <td>NaN</td>\n",
       "      <td>NaN</td>\n",
       "      <td>NaN</td>\n",
       "      <td>NaN</td>\n",
       "      <td>NaN</td>\n",
       "      <td>NaN</td>\n",
       "      <td>NaN</td>\n",
       "      <td>NaN</td>\n",
       "      <td>NaN</td>\n",
       "    </tr>\n",
       "  </tbody>\n",
       "</table>\n",
       "</div>"
      ],
      "text/plain": [
       "                                              nombre     ano  precio_de_venta  \\\n",
       "0                             Maruti Swift Dzire VDI  2014.0         450000.0   \n",
       "1                       Skoda Rapid 1.5 TDI Ambition  2014.0         370000.0   \n",
       "2  Honda City 2017-2020 EXi,2006,158000,140000,Pe...     NaN              NaN   \n",
       "3                          Hyundai i20 Sportz Diesel  2010.0         225000.0   \n",
       "4  Maruti Swift VXI BSIII,2007,130000,120000,Petr...     NaN              NaN   \n",
       "\n",
       "   km_recorridos combustible tipo_vendedor transmision   propietario  \\\n",
       "0       145500.0      Diesel    Individual      Manual   First Owner   \n",
       "1       120000.0      Diesel    Individual      Manual  Second Owner   \n",
       "2            NaN         NaN           NaN         NaN           NaN   \n",
       "3       127000.0      Diesel    Individual      Manual   First Owner   \n",
       "4            NaN         NaN           NaN         NaN           NaN   \n",
       "\n",
       "  kilometraje    motor potencia_maxima                       par  asientos  \n",
       "0   23.4 kmpl  1248 CC          74 bhp            190Nm@ 2000rpm       5.0  \n",
       "1  21.14 kmpl  1498 CC      103.52 bhp       250Nm@ 1500-2500rpm       5.0  \n",
       "2         NaN      NaN             NaN                       NaN       NaN  \n",
       "3   23.0 kmpl  1396 CC          90 bhp  22.4 kgm at 1750-2750rpm       5.0  \n",
       "4         NaN      NaN             NaN                       NaN       NaN  "
      ]
     },
     "execution_count": 1,
     "metadata": {},
     "output_type": "execute_result"
    }
   ],
   "source": [
    "import pandas as pd\n",
    "import numpy as np\n",
    "import seaborn as sns\n",
    "import matplotlib.pyplot as plt\n",
    "\n",
    "from sklearn.model_selection import train_test_split\n",
    "from sklearn.linear_model import LinearRegression\n",
    "from sklearn.metrics import mean_squared_error, r2_score\n",
    "from sklearn.preprocessing import LabelEncoder\n",
    "\n",
    "#Cargar Datos\n",
    "Data = pd.read_csv('./Cardetails.csv')\n",
    "\n",
    "#Mostrar Datos\n",
    "Data.head(5)"
   ]
  },
  {
   "cell_type": "code",
   "execution_count": 2,
   "id": "6366ef82-934b-4696-b492-2040b206004b",
   "metadata": {},
   "outputs": [
    {
     "data": {
      "text/html": [
       "<div>\n",
       "<style scoped>\n",
       "    .dataframe tbody tr th:only-of-type {\n",
       "        vertical-align: middle;\n",
       "    }\n",
       "\n",
       "    .dataframe tbody tr th {\n",
       "        vertical-align: top;\n",
       "    }\n",
       "\n",
       "    .dataframe thead th {\n",
       "        text-align: right;\n",
       "    }\n",
       "</style>\n",
       "<table border=\"1\" class=\"dataframe\">\n",
       "  <thead>\n",
       "    <tr style=\"text-align: right;\">\n",
       "      <th></th>\n",
       "      <th>ano</th>\n",
       "      <th>precio_de_venta</th>\n",
       "      <th>km_recorridos</th>\n",
       "      <th>asientos</th>\n",
       "    </tr>\n",
       "  </thead>\n",
       "  <tbody>\n",
       "    <tr>\n",
       "      <th>count</th>\n",
       "      <td>7787.000000</td>\n",
       "      <td>7.787000e+03</td>\n",
       "      <td>7.787000e+03</td>\n",
       "      <td>7566.000000</td>\n",
       "    </tr>\n",
       "    <tr>\n",
       "      <th>mean</th>\n",
       "      <td>2014.054193</td>\n",
       "      <td>6.566975e+05</td>\n",
       "      <td>6.840663e+04</td>\n",
       "      <td>5.422284</td>\n",
       "    </tr>\n",
       "    <tr>\n",
       "      <th>std</th>\n",
       "      <td>3.911379</td>\n",
       "      <td>8.174188e+05</td>\n",
       "      <td>5.663441e+04</td>\n",
       "      <td>0.955162</td>\n",
       "    </tr>\n",
       "    <tr>\n",
       "      <th>min</th>\n",
       "      <td>1983.000000</td>\n",
       "      <td>2.999900e+04</td>\n",
       "      <td>1.000000e+00</td>\n",
       "      <td>2.000000</td>\n",
       "    </tr>\n",
       "    <tr>\n",
       "      <th>25%</th>\n",
       "      <td>2012.000000</td>\n",
       "      <td>2.750000e+05</td>\n",
       "      <td>3.300150e+04</td>\n",
       "      <td>5.000000</td>\n",
       "    </tr>\n",
       "    <tr>\n",
       "      <th>50%</th>\n",
       "      <td>2015.000000</td>\n",
       "      <td>4.599990e+05</td>\n",
       "      <td>6.000000e+04</td>\n",
       "      <td>5.000000</td>\n",
       "    </tr>\n",
       "    <tr>\n",
       "      <th>75%</th>\n",
       "      <td>2017.000000</td>\n",
       "      <td>6.965000e+05</td>\n",
       "      <td>9.000000e+04</td>\n",
       "      <td>5.000000</td>\n",
       "    </tr>\n",
       "    <tr>\n",
       "      <th>max</th>\n",
       "      <td>2020.000000</td>\n",
       "      <td>1.000000e+07</td>\n",
       "      <td>2.360457e+06</td>\n",
       "      <td>14.000000</td>\n",
       "    </tr>\n",
       "  </tbody>\n",
       "</table>\n",
       "</div>"
      ],
      "text/plain": [
       "               ano  precio_de_venta  km_recorridos     asientos\n",
       "count  7787.000000     7.787000e+03   7.787000e+03  7566.000000\n",
       "mean   2014.054193     6.566975e+05   6.840663e+04     5.422284\n",
       "std       3.911379     8.174188e+05   5.663441e+04     0.955162\n",
       "min    1983.000000     2.999900e+04   1.000000e+00     2.000000\n",
       "25%    2012.000000     2.750000e+05   3.300150e+04     5.000000\n",
       "50%    2015.000000     4.599990e+05   6.000000e+04     5.000000\n",
       "75%    2017.000000     6.965000e+05   9.000000e+04     5.000000\n",
       "max    2020.000000     1.000000e+07   2.360457e+06    14.000000"
      ]
     },
     "execution_count": 2,
     "metadata": {},
     "output_type": "execute_result"
    }
   ],
   "source": [
    "#Descripcion de los datos\n",
    "Data.describe()"
   ]
  },
  {
   "cell_type": "code",
   "execution_count": 3,
   "id": "0cb5da81-2d66-42d9-ad14-8f89fda92006",
   "metadata": {},
   "outputs": [],
   "source": [
    "# Manejar datos faltantes\n",
    "Data.replace(0, np.nan, inplace=True)\n",
    "Data.fillna(Data.mean(numeric_only=True), inplace=True)\n",
    "Data.fillna('NA',inplace=True)"
   ]
  },
  {
   "cell_type": "code",
   "execution_count": 4,
   "id": "8993c6b6-6178-40c3-a7b8-02e3c2f0e44d",
   "metadata": {},
   "outputs": [
    {
     "data": {
      "text/html": [
       "<div>\n",
       "<style scoped>\n",
       "    .dataframe tbody tr th:only-of-type {\n",
       "        vertical-align: middle;\n",
       "    }\n",
       "\n",
       "    .dataframe tbody tr th {\n",
       "        vertical-align: top;\n",
       "    }\n",
       "\n",
       "    .dataframe thead th {\n",
       "        text-align: right;\n",
       "    }\n",
       "</style>\n",
       "<table border=\"1\" class=\"dataframe\">\n",
       "  <thead>\n",
       "    <tr style=\"text-align: right;\">\n",
       "      <th></th>\n",
       "      <th>nombre</th>\n",
       "      <th>ano</th>\n",
       "      <th>precio_de_venta</th>\n",
       "      <th>km_recorridos</th>\n",
       "      <th>combustible</th>\n",
       "      <th>tipo_vendedor</th>\n",
       "      <th>transmision</th>\n",
       "      <th>propietario</th>\n",
       "      <th>kilometraje</th>\n",
       "      <th>motor</th>\n",
       "      <th>potencia_maxima</th>\n",
       "      <th>par</th>\n",
       "      <th>asientos</th>\n",
       "    </tr>\n",
       "  </thead>\n",
       "  <tbody>\n",
       "    <tr>\n",
       "      <th>0</th>\n",
       "      <td>Maruti Swift Dzire VDI</td>\n",
       "      <td>2014.000000</td>\n",
       "      <td>450000.000000</td>\n",
       "      <td>145500.000000</td>\n",
       "      <td>Diesel</td>\n",
       "      <td>Individual</td>\n",
       "      <td>Manual</td>\n",
       "      <td>First Owner</td>\n",
       "      <td>23.4 kmpl</td>\n",
       "      <td>1248 CC</td>\n",
       "      <td>74 bhp</td>\n",
       "      <td>190Nm@ 2000rpm</td>\n",
       "      <td>5.000000</td>\n",
       "    </tr>\n",
       "    <tr>\n",
       "      <th>1</th>\n",
       "      <td>Skoda Rapid 1.5 TDI Ambition</td>\n",
       "      <td>2014.000000</td>\n",
       "      <td>370000.000000</td>\n",
       "      <td>120000.000000</td>\n",
       "      <td>Diesel</td>\n",
       "      <td>Individual</td>\n",
       "      <td>Manual</td>\n",
       "      <td>Second Owner</td>\n",
       "      <td>21.14 kmpl</td>\n",
       "      <td>1498 CC</td>\n",
       "      <td>103.52 bhp</td>\n",
       "      <td>250Nm@ 1500-2500rpm</td>\n",
       "      <td>5.000000</td>\n",
       "    </tr>\n",
       "    <tr>\n",
       "      <th>2</th>\n",
       "      <td>Honda City 2017-2020 EXi,2006,158000,140000,Pe...</td>\n",
       "      <td>2014.054193</td>\n",
       "      <td>656697.467317</td>\n",
       "      <td>68406.631694</td>\n",
       "      <td>NA</td>\n",
       "      <td>NA</td>\n",
       "      <td>NA</td>\n",
       "      <td>NA</td>\n",
       "      <td>NA</td>\n",
       "      <td>NA</td>\n",
       "      <td>NA</td>\n",
       "      <td>NA</td>\n",
       "      <td>5.422284</td>\n",
       "    </tr>\n",
       "    <tr>\n",
       "      <th>3</th>\n",
       "      <td>Hyundai i20 Sportz Diesel</td>\n",
       "      <td>2010.000000</td>\n",
       "      <td>225000.000000</td>\n",
       "      <td>127000.000000</td>\n",
       "      <td>Diesel</td>\n",
       "      <td>Individual</td>\n",
       "      <td>Manual</td>\n",
       "      <td>First Owner</td>\n",
       "      <td>23.0 kmpl</td>\n",
       "      <td>1396 CC</td>\n",
       "      <td>90 bhp</td>\n",
       "      <td>22.4 kgm at 1750-2750rpm</td>\n",
       "      <td>5.000000</td>\n",
       "    </tr>\n",
       "    <tr>\n",
       "      <th>4</th>\n",
       "      <td>Maruti Swift VXI BSIII,2007,130000,120000,Petr...</td>\n",
       "      <td>2014.054193</td>\n",
       "      <td>656697.467317</td>\n",
       "      <td>68406.631694</td>\n",
       "      <td>NA</td>\n",
       "      <td>NA</td>\n",
       "      <td>NA</td>\n",
       "      <td>NA</td>\n",
       "      <td>NA</td>\n",
       "      <td>NA</td>\n",
       "      <td>NA</td>\n",
       "      <td>NA</td>\n",
       "      <td>5.422284</td>\n",
       "    </tr>\n",
       "  </tbody>\n",
       "</table>\n",
       "</div>"
      ],
      "text/plain": [
       "                                              nombre          ano  \\\n",
       "0                             Maruti Swift Dzire VDI  2014.000000   \n",
       "1                       Skoda Rapid 1.5 TDI Ambition  2014.000000   \n",
       "2  Honda City 2017-2020 EXi,2006,158000,140000,Pe...  2014.054193   \n",
       "3                          Hyundai i20 Sportz Diesel  2010.000000   \n",
       "4  Maruti Swift VXI BSIII,2007,130000,120000,Petr...  2014.054193   \n",
       "\n",
       "   precio_de_venta  km_recorridos combustible tipo_vendedor transmision  \\\n",
       "0    450000.000000  145500.000000      Diesel    Individual      Manual   \n",
       "1    370000.000000  120000.000000      Diesel    Individual      Manual   \n",
       "2    656697.467317   68406.631694          NA            NA          NA   \n",
       "3    225000.000000  127000.000000      Diesel    Individual      Manual   \n",
       "4    656697.467317   68406.631694          NA            NA          NA   \n",
       "\n",
       "    propietario kilometraje    motor potencia_maxima  \\\n",
       "0   First Owner   23.4 kmpl  1248 CC          74 bhp   \n",
       "1  Second Owner  21.14 kmpl  1498 CC      103.52 bhp   \n",
       "2            NA          NA       NA              NA   \n",
       "3   First Owner   23.0 kmpl  1396 CC          90 bhp   \n",
       "4            NA          NA       NA              NA   \n",
       "\n",
       "                        par  asientos  \n",
       "0            190Nm@ 2000rpm  5.000000  \n",
       "1       250Nm@ 1500-2500rpm  5.000000  \n",
       "2                        NA  5.422284  \n",
       "3  22.4 kgm at 1750-2750rpm  5.000000  \n",
       "4                        NA  5.422284  "
      ]
     },
     "execution_count": 4,
     "metadata": {},
     "output_type": "execute_result"
    }
   ],
   "source": [
    "#Mostrar Datos\n",
    "Data.head(5)"
   ]
  },
  {
   "cell_type": "code",
   "execution_count": 5,
   "id": "03662b33-29b0-4568-9941-edf6a0b31459",
   "metadata": {},
   "outputs": [
    {
     "name": "stdout",
     "output_type": "stream",
     "text": [
      "Index(['nombre', 'ano', 'precio_de_venta', 'km_recorridos', 'combustible',\n",
      "       'tipo_vendedor', 'transmision', 'propietario', 'kilometraje', 'motor',\n",
      "       'potencia_maxima', 'par', 'asientos'],\n",
      "      dtype='object')\n"
     ]
    }
   ],
   "source": [
    "# Confirmacion de columnas\n",
    "print(Data.columns)"
   ]
  },
  {
   "cell_type": "code",
   "execution_count": 6,
   "id": "3bd757b0-af60-4997-b9b3-bd537311d114",
   "metadata": {},
   "outputs": [
    {
     "data": {
      "text/plain": [
       "<Axes: xlabel='km_recorridos'>"
      ]
     },
     "execution_count": 6,
     "metadata": {},
     "output_type": "execute_result"
    },
    {
     "data": {
      "image/png": "[encoded data removed]",
      "text/plain": [
       "<Figure size 600x300 with 1 Axes>"
      ]
     },
     "metadata": {},
     "output_type": "display_data"
    },
    {
     "data": {
      "image/png": "[encoded data removed]",
      "text/plain": [
       "<Figure size 600x300 with 1 Axes>"
      ]
     },
     "metadata": {},
     "output_type": "display_data"
    },
    {
     "data": {
      "image/png": "[encoded data removed]",
      "text/plain": [
       "<Figure size 600x300 with 1 Axes>"
      ]
     },
     "metadata": {},
     "output_type": "display_data"
    },
    {
     "data": {
      "image/png": "[encoded data removed]",
      "text/plain": [
       "<Figure size 600x300 with 1 Axes>"
      ]
     },
     "metadata": {},
     "output_type": "display_data"
    }
   ],
   "source": [
    "# Análisis exploratorio de datos\n",
    "\n",
    "# Variable \"asientos\"\n",
    "plt.figure(figsize=(6, 3))\n",
    "sns.boxplot(x=Data['asientos'])\n",
    "plt.title('Identificación de Datos Atípicos', fontsize=10)\n",
    "\n",
    "# Variable \"ano\"\n",
    "plt.figure(figsize=(6, 3))\n",
    "sns.boxplot(x=Data['ano'])\n",
    "\n",
    "# Variable \"precio_de venta\"\n",
    "plt.figure(figsize=(6, 3))\n",
    "sns.boxplot(x=Data['precio_de_venta'])\n",
    "\n",
    "# Variable \"km_recorridos\"\n",
    "plt.figure(figsize=(6, 3))\n",
    "sns.boxplot(x=Data['km_recorridos'])"
   ]
  },
  {
   "cell_type": "code",
   "execution_count": 7,
   "id": "32378a3c-22c5-4c6b-9f37-3b8fb0e79f83",
   "metadata": {},
   "outputs": [
    {
     "name": "stdout",
     "output_type": "stream",
     "text": [
      "Total registros dataset: 8128\n",
      "El total de datos atípicos para la cantidad de asientos es 1\n",
      "El total de datos atípicos para el año es 1\n",
      "\n",
      "<class 'pandas.core.frame.DataFrame'>\n",
      "RangeIndex: 8128 entries, 0 to 8127\n",
      "Data columns (total 13 columns):\n",
      " #   Column           Non-Null Count  Dtype  \n",
      "---  ------           --------------  -----  \n",
      " 0   nombre           8128 non-null   object \n",
      " 1   ano              8128 non-null   float64\n",
      " 2   precio_de_venta  8128 non-null   float64\n",
      " 3   km_recorridos    8128 non-null   float64\n",
      " 4   combustible      8128 non-null   object \n",
      " 5   tipo_vendedor    8128 non-null   object \n",
      " 6   transmision      8128 non-null   object \n",
      " 7   propietario      8128 non-null   object \n",
      " 8   kilometraje      8128 non-null   object \n",
      " 9   motor            8128 non-null   object \n",
      " 10  potencia_maxima  8128 non-null   object \n",
      " 11  par              8128 non-null   object \n",
      " 12  asientos         8128 non-null   float64\n",
      "dtypes: float64(4), object(9)\n",
      "memory usage: 825.6+ KB\n"
     ]
    }
   ],
   "source": [
    "# Definir límites para datos atípicos\n",
    "max_asientos = 10\n",
    "min_asientos = 2\n",
    "total_asientos = ((Data['asientos'] < min_asientos) | (Data['asientos'] > max_asientos)).sum()\n",
    "\n",
    "max_ano = 2020\n",
    "min_ano = 1990\n",
    "total_ano = ((Data['ano'] < min_ano) | (Data['ano'] > max_ano)).sum()\n",
    "\n",
    "print(\"Total registros dataset: {}\".format(len(Data)))\n",
    "print(\"El total de datos atípicos para la cantidad de asientos es {}\".format(total_asientos))\n",
    "print(\"El total de datos atípicos para el año es {}\".format(total_ano))\n",
    "print(\"\")\n",
    "Data.info()"
   ]
  },
  {
   "cell_type": "code",
   "execution_count": 8,
   "id": "b64872c9-1846-4ba8-9278-0aeb88edf887",
   "metadata": {},
   "outputs": [],
   "source": [
    "#Ajustar columnas tipo object para poder procesarlos en el modelo\n",
    "\n",
    "data_numerica = Data.copy()\n",
    "for column in data_numerica.columns:\n",
    "    if data_numerica[column].dtype == 'object':\n",
    "        label_encoder = LabelEncoder()\n",
    "        data_numerica[column] = label_encoder.fit_transform(data_numerica[column])"
   ]
  },
  {
   "cell_type": "code",
   "execution_count": 9,
   "id": "85e335f5-746f-4e5a-938e-fdda80bebc02",
   "metadata": {},
   "outputs": [],
   "source": [
    "# Dividir los datos en conjunto de entrenamiento y prueba\n",
    "X = data_numerica.drop('precio_de_venta', axis=1)\n",
    "Y = data_numerica['precio_de_venta']\n",
    "\n",
    "X_train, X_test, Y_train, Y_test = train_test_split(X, Y, test_size=0.25, random_state=0)\n"
   ]
  },
  {
   "cell_type": "code",
   "execution_count": 10,
   "id": "9f5df401-5641-4f72-a3c3-aa6f80e7da5e",
   "metadata": {},
   "outputs": [
    {
     "data": {
      "text/html": [
       "<div>\n",
       "<style scoped>\n",
       "    .dataframe tbody tr th:only-of-type {\n",
       "        vertical-align: middle;\n",
       "    }\n",
       "\n",
       "    .dataframe tbody tr th {\n",
       "        vertical-align: top;\n",
       "    }\n",
       "\n",
       "    .dataframe thead th {\n",
       "        text-align: right;\n",
       "    }\n",
       "</style>\n",
       "<table border=\"1\" class=\"dataframe\">\n",
       "  <thead>\n",
       "    <tr style=\"text-align: right;\">\n",
       "      <th></th>\n",
       "      <th>nombre</th>\n",
       "      <th>ano</th>\n",
       "      <th>km_recorridos</th>\n",
       "      <th>combustible</th>\n",
       "      <th>tipo_vendedor</th>\n",
       "      <th>transmision</th>\n",
       "      <th>propietario</th>\n",
       "      <th>kilometraje</th>\n",
       "      <th>motor</th>\n",
       "      <th>potencia_maxima</th>\n",
       "      <th>par</th>\n",
       "      <th>asientos</th>\n",
       "    </tr>\n",
       "  </thead>\n",
       "  <tbody>\n",
       "    <tr>\n",
       "      <th>4313</th>\n",
       "      <td>782</td>\n",
       "      <td>2012.000000</td>\n",
       "      <td>40000.000000</td>\n",
       "      <td>4</td>\n",
       "      <td>1</td>\n",
       "      <td>1</td>\n",
       "      <td>0</td>\n",
       "      <td>239</td>\n",
       "      <td>10</td>\n",
       "      <td>239</td>\n",
       "      <td>22</td>\n",
       "      <td>5.000000</td>\n",
       "    </tr>\n",
       "    <tr>\n",
       "      <th>5178</th>\n",
       "      <td>1593</td>\n",
       "      <td>2014.054193</td>\n",
       "      <td>68406.631694</td>\n",
       "      <td>3</td>\n",
       "      <td>2</td>\n",
       "      <td>2</td>\n",
       "      <td>2</td>\n",
       "      <td>381</td>\n",
       "      <td>117</td>\n",
       "      <td>305</td>\n",
       "      <td>376</td>\n",
       "      <td>5.422284</td>\n",
       "    </tr>\n",
       "  </tbody>\n",
       "</table>\n",
       "</div>"
      ],
      "text/plain": [
       "      nombre          ano  km_recorridos  combustible  tipo_vendedor  \\\n",
       "4313     782  2012.000000   40000.000000            4              1   \n",
       "5178    1593  2014.054193   68406.631694            3              2   \n",
       "\n",
       "      transmision  propietario  kilometraje  motor  potencia_maxima  par  \\\n",
       "4313            1            0          239     10              239   22   \n",
       "5178            2            2          381    117              305  376   \n",
       "\n",
       "      asientos  \n",
       "4313  5.000000  \n",
       "5178  5.422284  "
      ]
     },
     "execution_count": 10,
     "metadata": {},
     "output_type": "execute_result"
    }
   ],
   "source": [
    "#Validar datos en train\n",
    "X_train.head(2)"
   ]
  },
  {
   "cell_type": "code",
   "execution_count": 11,
   "id": "9ab6fdec-4b28-4acb-afbd-507d9b93aaed",
   "metadata": {},
   "outputs": [
    {
     "data": {
      "text/html": [
       "<div>\n",
       "<style scoped>\n",
       "    .dataframe tbody tr th:only-of-type {\n",
       "        vertical-align: middle;\n",
       "    }\n",
       "\n",
       "    .dataframe tbody tr th {\n",
       "        vertical-align: top;\n",
       "    }\n",
       "\n",
       "    .dataframe thead th {\n",
       "        text-align: right;\n",
       "    }\n",
       "</style>\n",
       "<table border=\"1\" class=\"dataframe\">\n",
       "  <thead>\n",
       "    <tr style=\"text-align: right;\">\n",
       "      <th></th>\n",
       "      <th>nombre</th>\n",
       "      <th>ano</th>\n",
       "      <th>km_recorridos</th>\n",
       "      <th>combustible</th>\n",
       "      <th>tipo_vendedor</th>\n",
       "      <th>transmision</th>\n",
       "      <th>propietario</th>\n",
       "      <th>kilometraje</th>\n",
       "      <th>motor</th>\n",
       "      <th>potencia_maxima</th>\n",
       "      <th>par</th>\n",
       "      <th>asientos</th>\n",
       "    </tr>\n",
       "  </thead>\n",
       "  <tbody>\n",
       "    <tr>\n",
       "      <th>3558</th>\n",
       "      <td>871</td>\n",
       "      <td>2013.0</td>\n",
       "      <td>40000.0</td>\n",
       "      <td>1</td>\n",
       "      <td>1</td>\n",
       "      <td>1</td>\n",
       "      <td>0</td>\n",
       "      <td>293</td>\n",
       "      <td>23</td>\n",
       "      <td>277</td>\n",
       "      <td>182</td>\n",
       "      <td>5.0</td>\n",
       "    </tr>\n",
       "    <tr>\n",
       "      <th>233</th>\n",
       "      <td>1082</td>\n",
       "      <td>2013.0</td>\n",
       "      <td>70000.0</td>\n",
       "      <td>1</td>\n",
       "      <td>1</td>\n",
       "      <td>1</td>\n",
       "      <td>0</td>\n",
       "      <td>44</td>\n",
       "      <td>91</td>\n",
       "      <td>93</td>\n",
       "      <td>265</td>\n",
       "      <td>7.0</td>\n",
       "    </tr>\n",
       "  </tbody>\n",
       "</table>\n",
       "</div>"
      ],
      "text/plain": [
       "      nombre     ano  km_recorridos  combustible  tipo_vendedor  transmision  \\\n",
       "3558     871  2013.0        40000.0            1              1            1   \n",
       "233     1082  2013.0        70000.0            1              1            1   \n",
       "\n",
       "      propietario  kilometraje  motor  potencia_maxima  par  asientos  \n",
       "3558            0          293     23              277  182       5.0  \n",
       "233             0           44     91               93  265       7.0  "
      ]
     },
     "execution_count": 11,
     "metadata": {},
     "output_type": "execute_result"
    }
   ],
   "source": [
    "#Validar datos en test\n",
    "X_test.head(2)"
   ]
  },
  {
   "cell_type": "code",
   "execution_count": 12,
   "id": "aac649b8-d784-4c84-9053-489b56469f14",
   "metadata": {
    "scrolled": true
   },
   "outputs": [
    {
     "data": {
      "text/html": [
       "<style>#sk-container-id-1 {color: black;background-color: white;}#sk-container-id-1 pre{padding: 0;}#sk-container-id-1 div.sk-toggleable {background-color: white;}#sk-container-id-1 label.sk-toggleable__label {cursor: pointer;display: block;width: 100%;margin-bottom: 0;padding: 0.3em;box-sizing: border-box;text-align: center;}#sk-container-id-1 label.sk-toggleable__label-arrow:before {content: \"▸\";float: left;margin-right: 0.25em;color: #696969;}#sk-container-id-1 label.sk-toggleable__label-arrow:hover:before {color: black;}#sk-container-id-1 div.sk-estimator:hover label.sk-toggleable__label-arrow:before {color: black;}#sk-container-id-1 div.sk-toggleable__content {max-height: 0;max-width: 0;overflow: hidden;text-align: left;background-color: #f0f8ff;}#sk-container-id-1 div.sk-toggleable__content pre {margin: 0.2em;color: black;border-radius: 0.25em;background-color: #f0f8ff;}#sk-container-id-1 input.sk-toggleable__control:checked~div.sk-toggleable__content {max-height: 200px;max-width: 100%;overflow: auto;}#sk-container-id-1 input.sk-toggleable__control:checked~label.sk-toggleable__label-arrow:before {content: \"▾\";}#sk-container-id-1 div.sk-estimator input.sk-toggleable__control:checked~label.sk-toggleable__label {background-color: #d4ebff;}#sk-container-id-1 div.sk-label input.sk-toggleable__control:checked~label.sk-toggleable__label {background-color: #d4ebff;}#sk-container-id-1 input.sk-hidden--visually {border: 0;clip: rect(1px 1px 1px 1px);clip: rect(1px, 1px, 1px, 1px);height: 1px;margin: -1px;overflow: hidden;padding: 0;position: absolute;width: 1px;}#sk-container-id-1 div.sk-estimator {font-family: monospace;background-color: #f0f8ff;border: 1px dotted black;border-radius: 0.25em;box-sizing: border-box;margin-bottom: 0.5em;}#sk-container-id-1 div.sk-estimator:hover {background-color: #d4ebff;}#sk-container-id-1 div.sk-parallel-item::after {content: \"\";width: 100%;border-bottom: 1px solid gray;flex-grow: 1;}#sk-container-id-1 div.sk-label:hover label.sk-toggleable__label {background-color: #d4ebff;}#sk-container-id-1 div.sk-serial::before {content: \"\";position: absolute;border-left: 1px solid gray;box-sizing: border-box;top: 0;bottom: 0;left: 50%;z-index: 0;}#sk-container-id-1 div.sk-serial {display: flex;flex-direction: column;align-items: center;background-color: white;padding-right: 0.2em;padding-left: 0.2em;position: relative;}#sk-container-id-1 div.sk-item {position: relative;z-index: 1;}#sk-container-id-1 div.sk-parallel {display: flex;align-items: stretch;justify-content: center;background-color: white;position: relative;}#sk-container-id-1 div.sk-item::before, #sk-container-id-1 div.sk-parallel-item::before {content: \"\";position: absolute;border-left: 1px solid gray;box-sizing: border-box;top: 0;bottom: 0;left: 50%;z-index: -1;}#sk-container-id-1 div.sk-parallel-item {display: flex;flex-direction: column;z-index: 1;position: relative;background-color: white;}#sk-container-id-1 div.sk-parallel-item:first-child::after {align-self: flex-end;width: 50%;}#sk-container-id-1 div.sk-parallel-item:last-child::after {align-self: flex-start;width: 50%;}#sk-container-id-1 div.sk-parallel-item:only-child::after {width: 0;}#sk-container-id-1 div.sk-dashed-wrapped {border: 1px dashed gray;margin: 0 0.4em 0.5em 0.4em;box-sizing: border-box;padding-bottom: 0.4em;background-color: white;}#sk-container-id-1 div.sk-label label {font-family: monospace;font-weight: bold;display: inline-block;line-height: 1.2em;}#sk-container-id-1 div.sk-label-container {text-align: center;}#sk-container-id-1 div.sk-container {/* jupyter's `normalize.less` sets `[hidden] { display: none; }` but bootstrap.min.css set `[hidden] { display: none !important; }` so we also need the `!important` here to be able to override the default hidden behavior on the sphinx rendered scikit-learn.org. See: https://github.com/scikit-learn/scikit-learn/issues/21755 */display: inline-block !important;position: relative;}#sk-container-id-1 div.sk-text-repr-fallback {display: none;}</style><div id=\"sk-container-id-1\" class=\"sk-top-container\"><div class=\"sk-text-repr-fallback\"><pre>LinearRegression()</pre><b>In a Jupyter environment, please rerun this cell to show the HTML representation or trust the notebook. <br />On GitHub, the HTML representation is unable to render, please try loading this page with nbviewer.org.</b></div><div class=\"sk-container\" hidden><div class=\"sk-item\"><div class=\"sk-estimator sk-toggleable\"><input class=\"sk-toggleable__control sk-hidden--visually\" id=\"sk-estimator-id-1\" type=\"checkbox\" checked><label for=\"sk-estimator-id-1\" class=\"sk-toggleable__label sk-toggleable__label-arrow\">LinearRegression</label><div class=\"sk-toggleable__content\"><pre>LinearRegression()</pre></div></div></div></div></div>"
      ],
      "text/plain": [
       "LinearRegression()"
      ]
     },
     "execution_count": 12,
     "metadata": {},
     "output_type": "execute_result"
    }
   ],
   "source": [
    "# Crear y entrenar el modelo de regresión lineal\n",
    "modelo_regresion = LinearRegression()\n",
    "modelo_regresion.fit(X_train, Y_train)"
   ]
  },
  {
   "cell_type": "code",
   "execution_count": 15,
   "id": "26ee2300-b60f-43a9-b8cc-bd35c42628cb",
   "metadata": {},
   "outputs": [],
   "source": [
    "# Realizar predicciones\n",
    "Prediccion = modelo_regresion.predict(X_test)"
   ]
  },
  {
   "cell_type": "code",
   "execution_count": 16,
   "id": "e9f56bef-6168-4966-9b93-3aa5eb86fed2",
   "metadata": {},
   "outputs": [
    {
     "name": "stdout",
     "output_type": "stream",
     "text": [
      "Coeficientes: [-1.07080196e+02  8.50260316e+04 -8.22161145e-01 -1.46003226e+05\n",
      " -7.38159137e+04 -7.01205378e+05 -4.12534190e+03 -1.94685337e+03\n",
      "  2.80003671e+03  5.66472374e+02  1.22643962e+03 -1.08561366e+05]\n",
      "Error cuadrático medio: 363151528857.16675\n",
      "Coeficiente de determinación (R^2): 0.4424242844222146\n"
     ]
    }
   ],
   "source": [
    "# Evaluar el modelo\n",
    "print('Coeficientes:', modelo_regresion.coef_)\n",
    "print('Error cuadrático medio:', mean_squared_error(Y_test, Prediccion))\n",
    "print('Coeficiente de determinación (R^2):', r2_score(Y_test, Prediccion))"
   ]
  },
  {
   "cell_type": "code",
   "execution_count": 17,
   "id": "ef538dd2-58d9-4207-a7a5-1e2d5b687be0",
   "metadata": {},
   "outputs": [
    {
     "data": {
      "image/png": "[encoded data removed]",
      "text/plain": [
       "<Figure size 640x480 with 1 Axes>"
      ]
     },
     "metadata": {},
     "output_type": "display_data"
    }
   ],
   "source": [
    "# Visualizar el rendimiento del modelo\n",
    "plt.scatter(Y_test, Prediccion)\n",
    "plt.xlabel(\"Valores reales\")\n",
    "plt.ylabel(\"Predicciones\")\n",
    "plt.title(\"Rendimiento del modelo de regresión lineal\")\n",
    "plt.show()"
   ]
  }
 ],
 "metadata": {
  "kernelspec": {
   "display_name": "Python 3 (ipykernel)",
   "language": "python",
   "name": "python3"
  },
  "language_info": {
   "codemirror_mode": {
    "name": "ipython",
    "version": 3
   },
   "file_extension": ".py",
   "mimetype": "text/x-python",
   "name": "python",
   "nbconvert_exporter": "python",
   "pygments_lexer": "ipython3",
   "version": "3.12.4"
  }
 },
 "nbformat": 4,
 "nbformat_minor": 5
}
